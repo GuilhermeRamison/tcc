{
  "nbformat": 4,
  "nbformat_minor": 0,
  "metadata": {
    "colab": {
      "provenance": [],
      "gpuType": "T4"
    },
    "kernelspec": {
      "name": "python3",
      "display_name": "Python 3"
    },
    "language_info": {
      "name": "python"
    },
    "accelerator": "GPU"
  },
  "cells": [
    {
      "cell_type": "code",
      "execution_count": null,
      "metadata": {
        "colab": {
          "base_uri": "https://localhost:8080/"
        },
        "id": "yMvpzHOJ9d8P",
        "outputId": "05580f4f-2119-4291-d049-ef6f1a829a12"
      },
      "outputs": [
        {
          "output_type": "stream",
          "name": "stdout",
          "text": [
            "Mounted at /content/drive\n"
          ]
        }
      ],
      "source": [
        "from google.colab import drive\n",
        "drive.mount('/content/drive')"
      ]
    },
    {
      "cell_type": "code",
      "source": [
        "!pip freeze > requirements.txt\n"
      ],
      "metadata": {
        "id": "eYARvtonQ7xW"
      },
      "execution_count": null,
      "outputs": []
    },
    {
      "cell_type": "code",
      "source": [
        "import nltk\n",
        "from nltk.corpus import wordnet\n",
        "import random\n",
        "nltk.download('omw-1.4')\n",
        "\n",
        "# Baixe o WordNet em português\n",
        "nltk.download('wordnet')\n",
        "nltk.download('omw')\n",
        "\n",
        "def generate_distractors(answer, num_distractors=3):\n",
        "    distractors = set()\n",
        "\n",
        "    # Adiciona a resposta correta como um distrator\n",
        "    distractors.add(answer)\n",
        "\n",
        "    # Encontra sinônimos da resposta correta\n",
        "    for synset in wordnet.synsets(answer, lang='por'):\n",
        "        for lemma in synset.lemmas(lang='por'):\n",
        "            distractors.add(lemma.name())\n",
        "\n",
        "    # Encontra antônimos da resposta correta\n",
        "    for synset in wordnet.synsets(answer, lang='por'):\n",
        "        for lemma in synset.lemmas(lang='por'):\n",
        "            for antonym in lemma.antonyms():\n",
        "                distractors.add(antonym.name())\n",
        "\n",
        "    # Remove a resposta correta dos distratores\n",
        "    distractors.discard(answer)\n",
        "\n",
        "    # Seleciona aleatoriamente um número especificado de distratores\n",
        "    distractors = random.sample(distractors, min(num_distractors, len(distractors)))\n",
        "\n",
        "    return distractors\n",
        "\n",
        "# Exemplo de uso\n",
        "answer = \"cachorro\"\n",
        "distractors = generate_distractors(answer)\n",
        "print(\"Resposta correta:\", answer)\n",
        "print(\"Distratores:\", distractors)"
      ],
      "metadata": {
        "id": "XhcgpFVg7HGQ"
      },
      "execution_count": null,
      "outputs": []
    },
    {
      "cell_type": "code",
      "source": [
        "import torch\n",
        "from transformers import T5Tokenizer, T5ForConditionalGeneration\n",
        "#from sentence_embeddings import SentenceEmbeddings\n",
        "\n",
        "trained_model_path = '/content/drive/MyDrive/t5v1_tcc_2024/model'\n",
        "trained_tokenizer_path = '/content/drive/MyDrive/t5v1_tcc_2024/tokenizer'\n",
        "\n",
        "\n",
        "class QuestionGeneration:\n",
        "\n",
        "    def __init__(self, model_dir=None):\n",
        "        self.model = T5ForConditionalGeneration.from_pretrained(trained_model_path)\n",
        "        self.tokenizer = T5Tokenizer.from_pretrained(trained_tokenizer_path)\n",
        "        self.device = torch.device(\"cuda\")\n",
        "        self.model = self.model.to(self.device)\n",
        "        self.model.eval()\n",
        "\n",
        "    def generate(self, answer: str, context: str):\n",
        "        input_text = '<answer> %s <context> %s ' % (answer, context)\n",
        "        encoding = self.tokenizer.encode_plus(\n",
        "            input_text,\n",
        "            return_tensors='pt',\n",
        "            max_length=512\n",
        "        ).to(self.device)\n",
        "        input_ids = encoding['input_ids']\n",
        "        attention_mask = encoding['attention_mask']\n",
        "        outputs = self.model.generate(\n",
        "            input_ids=input_ids,\n",
        "            attention_mask=attention_mask,\n",
        "            num_beams = 3,\n",
        "            num_return_sequences = 1,\n",
        "            max_length = 512\n",
        "        ).to(self.device)\n",
        "        question_list = []\n",
        "        for output in outputs:\n",
        "            question = self.tokenizer.decode(\n",
        "                output,\n",
        "                skip_special_tokens=True,\n",
        "                clean_up_tokenization_spaces=True\n",
        "            )\n",
        "            question_list.append({'question': question, 'answer': answer, 'context': context})\n",
        "        return question_list\n",
        "\n",
        "\n",
        "QG = QuestionGeneration()\n",
        "\n"
      ],
      "metadata": {
        "colab": {
          "base_uri": "https://localhost:8080/"
        },
        "id": "CaHcHQHF9odK",
        "outputId": "9d59598e-e7cd-4917-90b9-ad0e97b20941"
      },
      "execution_count": null,
      "outputs": [
        {
          "output_type": "stream",
          "name": "stderr",
          "text": [
            "Special tokens have been added in the vocabulary, make sure the associated word embeddings are fine-tuned or trained.\n",
            "Truncation was not explicitly activated but `max_length` is provided a specific value, please use `truncation=True` to explicitly truncate examples to max length. Defaulting to 'longest_first' truncation strategy. If you encode pairs of sequences (GLUE-style) with the tokenizer you can select this strategy more precisely by providing a specific strategy to `truncation`.\n"
          ]
        },
        {
          "output_type": "stream",
          "name": "stdout",
          "text": [
            "Pergunta: Qual ramo da fisiologia estuda o funcionamento do sistema respiratório humano?\n",
            "Resposta: Fisiologia Respiratória\n",
            "Pergunta: Que órgos compem o sistema respiratório?\n",
            "Resposta: Pulmões\n",
            "Pergunta: O que o sistema respiratório faz entre o corpo e o ambiente?\n",
            "Resposta: Troca Gasosa\n",
            "Pergunta: O que ocorre a troca gasosa nos pulmes?\n",
            "Resposta: Alvéolos\n",
            "Pergunta: Quais so asma, enfisema e bronquite crônica?\n",
            "Resposta: Distúrbios Respiratórios\n"
          ]
        }
      ]
    },
    {
      "cell_type": "code",
      "source": [
        "context = '''A Fisiologia Respiratória é o ramo da fisiologia que estuda o funcionamento do sistema respiratório humano. O sistema respiratório é responsável pela troca gasosa entre o corpo e o ambiente, fornecendo oxigênio aos tecidos e removendo dióxido de carbono. Consiste em órgãos como nariz, faringe, laringe, traqueia, brônquios e pulmões.\n",
        "\n",
        "Durante a inspiração, os músculos respiratórios, incluindo o diafragma e os músculos intercostais, se contraem, expandindo a caixa torácica e diminuindo a pressão dentro dos pulmões. Isso permite que o ar entre nos pulmões, onde ocorre a troca gasosa nos alvéolos pulmonares.\n",
        "\n",
        "Na expiração, os músculos respiratórios relaxam e a caixa torácica retorna à sua posição de repouso, empurrando o ar rico em dióxido de carbono para fora dos pulmões. O sistema respiratório também desempenha um papel na regulação do pH sanguíneo, controlando os níveis de ácido carbônico no sangue.\n",
        "\n",
        "Distúrbios respiratórios, como asma, enfisema e bronquite crônica, podem afetar a função pulmonar e prejudicar a troca gasosa. O estudo da fisiologia respiratória é crucial para entender esses distúrbios e desenvolver tratamentos eficazes para melhorar a saúde pulmonar.'''\n",
        "answer_list = [\n",
        "    \"Fisiologia Respiratória\",\n",
        "    \"Pulmões\",\n",
        "    \"Troca Gasosa\",\n",
        "    \"Alvéolos\",\n",
        "    \"Distúrbios Respiratórios\"\n",
        "]\n",
        "\n",
        "\n",
        "\n",
        "# #SE = SentenceEmbeddings()\n",
        "\n",
        "for answer in answer_list:\n",
        "    qa = QG.generate(answer, context)\n",
        "    print(f'Pergunta: {qa[0].get(\"question\")}\\nResposta: {qa[0].get(\"answer\")}')"
      ],
      "metadata": {
        "colab": {
          "base_uri": "https://localhost:8080/"
        },
        "id": "dV7gD1iG1e0O",
        "outputId": "8bbe7b4e-b602-4f4e-d473-4167751b0cfe"
      },
      "execution_count": null,
      "outputs": [
        {
          "output_type": "stream",
          "name": "stdout",
          "text": [
            "Pergunta: Qual ramo da fisiologia estuda o funcionamento do sistema respiratório humano?\n",
            "Resposta: Fisiologia Respiratória\n",
            "Pergunta: Que órgos compem o sistema respiratório?\n",
            "Resposta: Pulmões\n",
            "Pergunta: O que o sistema respiratório faz entre o corpo e o ambiente?\n",
            "Resposta: Troca Gasosa\n",
            "Pergunta: O que ocorre a troca gasosa nos pulmes?\n",
            "Resposta: Alvéolos\n",
            "Pergunta: Quais so asma, enfisema e bronquite crônica?\n",
            "Resposta: Distúrbios Respiratórios\n"
          ]
        }
      ]
    },
    {
      "cell_type": "code",
      "source": [
        "context = '''O Brasil é o maior país da América do Sul e o quinto maior do mundo em área territorial e população. Com uma história rica e diversa, o Brasil é conhecido por sua cultura vibrante, paisagens deslumbrantes e biodiversidade única. Colonizado pelos portugueses no século XVI, o Brasil foi um importante centro colonial e se tornou independente em 1822, proclamando a República em 1889.\n",
        "Com uma população diversificada composta por uma mistura de povos indígenas, europeus, africanos e asiáticos, o Brasil é conhecido por sua rica herança cultural. A música, a dança e as festividades são elementos essenciais da cultura brasileira, com estilos como samba, bossa nova e frevo ganhando destaque internacionalmente.\n",
        "Economicamente, o Brasil é uma das maiores economias emergentes do mundo, com setores diversificados que incluem agricultura, indústria, serviços e recursos naturais. No entanto, o país também enfrenta desafios significativos, como desigualdade social, pobreza, corrupção e questões ambientais, que continuam a ser áreas de preocupação e foco para o desenvolvimento sustentável.'''\n",
        "answer_list = [\n",
        "    \"Brasil\",\n",
        "    \"agricultura\"\n",
        "]\n",
        "\n",
        "\n",
        "\n",
        "# #SE = SentenceEmbeddings()\n",
        "\n",
        "for answer in answer_list:\n",
        "    qa = QG.generate(answer, context)\n",
        "    print(f'Pergunta: {qa[0].get(\"question\")}\\nResposta: {qa[0].get(\"answer\")}\\nDistratores: {generate_distractors(qa[0].get(\"answer\"))}')"
      ],
      "metadata": {
        "colab": {
          "base_uri": "https://localhost:8080/"
        },
        "id": "5a5HC8ET1KVk",
        "outputId": "9d4c3db3-7a05-487c-92ed-edf4186112b1"
      },
      "execution_count": null,
      "outputs": [
        {
          "output_type": "stream",
          "name": "stderr",
          "text": [
            "<ipython-input-6-76e17b92f752>:31: DeprecationWarning: Sampling from a set deprecated\n",
            "since Python 3.9 and will be removed in a subsequent version.\n",
            "  distractors = random.sample(distractors, min(num_distractors, len(distractors)))\n"
          ]
        },
        {
          "output_type": "stream",
          "name": "stdout",
          "text": [
            "Pergunta: Qual pas é o maior do mundo em área territorial e populaço?\n",
            "Resposta: Brasil\n",
            "Distratores: ['ibirapiranga', 'brasil', 'ibirapitá']\n",
            "Pergunta: Qual é um dos setores diversificados do Brasil?\n",
            "Resposta: agricultura\n",
            "Distratores: ['pecuária', 'agronegócio', 'cultivo']\n"
          ]
        }
      ]
    },
    {
      "cell_type": "code",
      "source": [],
      "metadata": {
        "id": "FIk1qo2g_iYF"
      },
      "execution_count": null,
      "outputs": []
    }
  ]
}